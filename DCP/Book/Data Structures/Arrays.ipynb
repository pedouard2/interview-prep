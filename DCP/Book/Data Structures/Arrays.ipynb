{
 "cells": [
  {
   "cell_type": "markdown",
   "id": "4b3847dd",
   "metadata": {},
   "source": [
    "# Arrays"
   ]
  },
  {
   "cell_type": "markdown",
   "id": "95eea77a",
   "metadata": {},
   "source": [
    "## Crash Course\n",
    "\n",
    "- Store and access an element : O(1)\n",
    "- Lookup: O(n)\n",
    "- Insert / Deletion: O(n) (elements have to be shifted)\n"
   ]
  },
  {
   "cell_type": "markdown",
   "id": "e2bf4132",
   "metadata": {},
   "source": [
    "## Problems "
   ]
  },
  {
   "cell_type": "markdown",
   "id": "61de8f2b",
   "metadata": {},
   "source": [
    "### 1.1 Get product of all other elements\n",
    "\n",
    "Given an array of integers, return a new array such that each element at index i of the array is the product of all the numbers in the original array except the one at i. \n",
    "\n",
    "[leetcode](https://leetcode.com/problems/product-of-array-except-self/description/?envType=study-plan-v2&envId=leetcode-75)\n",
    "\n",
    "Example: \n",
    "input [1,2,3,4,5]\n",
    "\n",
    "output [120, 60, 40, 30, 24]"
   ]
  },
  {
   "cell_type": "code",
   "execution_count": 15,
   "id": "8e688cea",
   "metadata": {},
   "outputs": [],
   "source": [
    "def product_except_self(nums):\n",
    "    s = 1\n",
    "    zeros = 0\n",
    "    for num in nums:\n",
    "        if num != 0:\n",
    "            s *= num\n",
    "        else:\n",
    "            zeros +=1\n",
    "    res = [0] * len(nums)   \n",
    "    for i, num in enumerate(nums):\n",
    "        if num != 0 and zeros:\n",
    "            res[i] = 0\n",
    "        elif num != 0 and not zeros:\n",
    "            res[i] = s // num\n",
    "        elif zeros == 1:\n",
    "            print(\"yes\")\n",
    "            res[i] = s\n",
    "            \n",
    "        else:\n",
    "            res[i] = 0\n",
    "    \n",
    "    return res\n",
    "\n",
    "\n",
    "            \n",
    "        "
   ]
  },
  {
   "cell_type": "code",
   "execution_count": 16,
   "id": "443186dd",
   "metadata": {},
   "outputs": [
    {
     "name": "stdout",
     "output_type": "stream",
     "text": [
      "yes\n"
     ]
    },
    {
     "data": {
      "text/plain": [
       "[0, 0, 9, 0, 0]"
      ]
     },
     "execution_count": 16,
     "metadata": {},
     "output_type": "execute_result"
    }
   ],
   "source": [
    "nums = [-1,1,0,-3,3]\n",
    "product_except_self(nums)"
   ]
  },
  {
   "cell_type": "code",
   "execution_count": 18,
   "id": "6028263c",
   "metadata": {},
   "outputs": [
    {
     "data": {
      "text/plain": [
       "[24, 12, 8, 6]"
      ]
     },
     "execution_count": 18,
     "metadata": {},
     "output_type": "execute_result"
    }
   ],
   "source": [
    "nums= [1,2,3,4]\n",
    "product_except_self(nums)"
   ]
  },
  {
   "cell_type": "markdown",
   "id": "f13b28f9",
   "metadata": {},
   "source": [
    "What if we can't use division?"
   ]
  },
  {
   "cell_type": "code",
   "execution_count": 26,
   "id": "f16198ac",
   "metadata": {},
   "outputs": [],
   "source": [
    "def product_except_self(nums):\n",
    "    n = len(nums)\n",
    "    l = [1] * n\n",
    "    r = [1] * n\n",
    "    \n",
    "    s = 1\n",
    "    for i in range(1,n):\n",
    "        s*= nums[i-1]\n",
    "        l[i] = s\n",
    "    s = 1 \n",
    "    for i in range(n-2, -1, -1):\n",
    "        s *= nums[i+1]\n",
    "        r[i] = s\n",
    "        \n",
    "    res = [0] * n\n",
    "    \n",
    "    for i in range(n):\n",
    "        res[i] = l[i] * r[i]\n",
    "        \n",
    "    return res\n"
   ]
  },
  {
   "cell_type": "code",
   "execution_count": 27,
   "id": "7e0d4d84",
   "metadata": {},
   "outputs": [
    {
     "data": {
      "text/plain": [
       "[120, 60, 40, 30, 24]"
      ]
     },
     "execution_count": 27,
     "metadata": {},
     "output_type": "execute_result"
    }
   ],
   "source": [
    "nums= [1,2,3,4,5]\n",
    "product_except_self(nums)"
   ]
  },
  {
   "cell_type": "code",
   "execution_count": 28,
   "id": "46142339",
   "metadata": {},
   "outputs": [
    {
     "data": {
      "text/plain": [
       "[0, 0, 9, 0, 0]"
      ]
     },
     "execution_count": 28,
     "metadata": {},
     "output_type": "execute_result"
    }
   ],
   "source": [
    "nums = [-1,1,0,-3,3]\n",
    "product_except_self(nums)"
   ]
  },
  {
   "cell_type": "markdown",
   "id": "11ce220e",
   "metadata": {},
   "source": [
    "### 1.2 Locate smallest window to be sorted\n",
    "\n",
    "Given an array oof integers that are out of order, determine the bounds of the smallet window that must be sorted in order for the entire array to be sorted.\n",
    "\n",
    "Example:\n",
    "\n",
    "3,7,5,6,9\n",
    "\n",
    "(1,3)"
   ]
  },
  {
   "cell_type": "code",
   "execution_count": 31,
   "id": "106c6320",
   "metadata": {},
   "outputs": [],
   "source": [
    "def locate_smallest_window(nums):\n",
    "    l = 0\n",
    "    r = len(nums) - 1\n",
    "    sorted_nums = sorted(nums)\n",
    "    \n",
    "    while nums[l] == sorted_nums[l] or nums[r] == sorted_nums[r]:\n",
    "        if nums[l] == sorted_nums[l]:\n",
    "            l+=1\n",
    "        if nums[r] == sorted_nums[r]:\n",
    "            r-=1\n",
    "        \n",
    "                                                                                                                                                                                                                                                                                                                                                     \n",
    "    return (l,r)\n",
    "    "
   ]
  },
  {
   "cell_type": "code",
   "execution_count": 32,
   "id": "9d9d7158",
   "metadata": {},
   "outputs": [
    {
     "name": "stdout",
     "output_type": "stream",
     "text": [
      "1 3\n"
     ]
    },
    {
     "data": {
      "text/plain": [
       "(1, 3)"
      ]
     },
     "execution_count": 32,
     "metadata": {},
     "output_type": "execute_result"
    }
   ],
   "source": [
    "nums = [3,7,5,6,9]\n",
    "locate_smallest_window(nums)"
   ]
  },
  {
   "cell_type": "code",
   "execution_count": null,
   "id": "2b288518",
   "metadata": {},
   "outputs": [],
   "source": []
  }
 ],
 "metadata": {
  "kernelspec": {
   "display_name": "Python 3 (ipykernel)",
   "language": "python",
   "name": "python3"
  },
  "language_info": {
   "codemirror_mode": {
    "name": "ipython",
    "version": 3
   },
   "file_extension": ".py",
   "mimetype": "text/x-python",
   "name": "python",
   "nbconvert_exporter": "python",
   "pygments_lexer": "ipython3",
   "version": "3.9.7"
  }
 },
 "nbformat": 4,
 "nbformat_minor": 5
}
